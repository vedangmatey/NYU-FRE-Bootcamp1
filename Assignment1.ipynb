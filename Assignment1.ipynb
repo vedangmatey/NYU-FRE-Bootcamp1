{
  "nbformat": 4,
  "nbformat_minor": 0,
  "metadata": {
    "colab": {
      "provenance": [],
      "authorship_tag": "ABX9TyOKcC3SBa2f1QiYh2m+dhBj",
      "include_colab_link": true
    },
    "kernelspec": {
      "name": "python3",
      "display_name": "Python 3"
    },
    "language_info": {
      "name": "python"
    }
  },
  "cells": [
    {
      "cell_type": "markdown",
      "metadata": {
        "id": "view-in-github",
        "colab_type": "text"
      },
      "source": [
        "<a href=\"https://colab.research.google.com/github/vedangmatey/NYU-FRE-Bootcamp1/blob/main/Assignment1.ipynb\" target=\"_parent\"><img src=\"https://colab.research.google.com/assets/colab-badge.svg\" alt=\"Open In Colab\"/></a>"
      ]
    },
    {
      "cell_type": "code",
      "source": [
        "from math import e\n",
        "import matplotlib.pyplot as plt\n"
      ],
      "metadata": {
        "id": "WT47dKgPZrLJ"
      },
      "execution_count": 51,
      "outputs": []
    },
    {
      "cell_type": "code",
      "execution_count": 28,
      "metadata": {
        "id": "6og098WBVqRi"
      },
      "outputs": [],
      "source": [
        "def func(x):\n",
        "  return x * e**x"
      ]
    },
    {
      "cell_type": "code",
      "source": [
        "func(1)"
      ],
      "metadata": {
        "colab": {
          "base_uri": "https://localhost:8080/"
        },
        "id": "9Z8ri0-LZY6P",
        "outputId": "2569345f-dd08-4e8e-e9a9-e9393cf83009"
      },
      "execution_count": 29,
      "outputs": [
        {
          "output_type": "execute_result",
          "data": {
            "text/plain": [
              "2.718281828459045"
            ]
          },
          "metadata": {},
          "execution_count": 29
        }
      ]
    },
    {
      "cell_type": "code",
      "source": [
        "def func_prime(x):\n",
        "  return e**x + func(x)"
      ],
      "metadata": {
        "id": "668r43FIZbnl"
      },
      "execution_count": 30,
      "outputs": []
    },
    {
      "cell_type": "code",
      "source": [
        "func_prime(1)"
      ],
      "metadata": {
        "colab": {
          "base_uri": "https://localhost:8080/"
        },
        "id": "qu9nIBN1aEt_",
        "outputId": "e57c0b08-3d7f-45d9-cd79-0ef251ab50d5"
      },
      "execution_count": 31,
      "outputs": [
        {
          "output_type": "execute_result",
          "data": {
            "text/plain": [
              "5.43656365691809"
            ]
          },
          "metadata": {},
          "execution_count": 31
        }
      ]
    },
    {
      "cell_type": "code",
      "source": [
        "X = []\n",
        "y = []"
      ],
      "metadata": {
        "id": "RkhdzMWb5Yw-"
      },
      "execution_count": 46,
      "outputs": []
    },
    {
      "cell_type": "code",
      "source": [
        "def find():\n",
        "  x = 1\n",
        "  X.append(x)\n",
        "  f = func(x)\n",
        "  y.append(f)\n",
        "  while(round(f)!=20):\n",
        "    x = x + ((20 - func(x))/func_prime(x))\n",
        "    X.append(x)\n",
        "    f = func(x)\n",
        "    y.append(f)\n",
        "    print(f'x = {x} \\t f = {f}')\n",
        "\n",
        "  print(f'\\n\\nx = {x}')\n",
        "  return"
      ],
      "metadata": {
        "id": "hvJO0xQBaILM"
      },
      "execution_count": 47,
      "outputs": []
    },
    {
      "cell_type": "code",
      "source": [
        "find()"
      ],
      "metadata": {
        "colab": {
          "base_uri": "https://localhost:8080/"
        },
        "id": "XW-_F3M1bC1S",
        "outputId": "f16629d9-ee05-488a-ecb2-b6c1a100fb6a"
      },
      "execution_count": 48,
      "outputs": [
        {
          "output_type": "stream",
          "name": "stdout",
          "text": [
            "x = 4.178794411714423 \t f = 272.82135355489066\n",
            "x = 3.431042163595488 \t f = 106.0495265298276\n",
            "x = 2.8027524873679006 \t f = 46.217312294875676\n",
            "x = 2.384662113127286 \t f = 25.886447152574483\n",
            "x = 2.2244511127014137 \t f = 20.572624967371723\n",
            "x = 2.2052490607772275 \t f = 20.007146125909912\n",
            "\n",
            "\n",
            "x = 2.2052490607772275\n"
          ]
        }
      ]
    },
    {
      "cell_type": "code",
      "source": [
        "X"
      ],
      "metadata": {
        "colab": {
          "base_uri": "https://localhost:8080/"
        },
        "id": "ctmjwAxUbFTv",
        "outputId": "39051d33-25c9-4db9-8780-f84a67a79abd"
      },
      "execution_count": 49,
      "outputs": [
        {
          "output_type": "execute_result",
          "data": {
            "text/plain": [
              "[1,\n",
              " 4.178794411714423,\n",
              " 3.431042163595488,\n",
              " 2.8027524873679006,\n",
              " 2.384662113127286,\n",
              " 2.2244511127014137,\n",
              " 2.2052490607772275]"
            ]
          },
          "metadata": {},
          "execution_count": 49
        }
      ]
    },
    {
      "cell_type": "code",
      "source": [
        "y"
      ],
      "metadata": {
        "colab": {
          "base_uri": "https://localhost:8080/"
        },
        "id": "wmWFulVEeheo",
        "outputId": "0fefb8d1-99c5-4639-c923-55dbc4f090c9"
      },
      "execution_count": 50,
      "outputs": [
        {
          "output_type": "execute_result",
          "data": {
            "text/plain": [
              "[2.718281828459045,\n",
              " 272.82135355489066,\n",
              " 106.0495265298276,\n",
              " 46.217312294875676,\n",
              " 25.886447152574483,\n",
              " 20.572624967371723,\n",
              " 20.007146125909912]"
            ]
          },
          "metadata": {},
          "execution_count": 50
        }
      ]
    },
    {
      "cell_type": "code",
      "source": [
        "plt.xlabel('X')\n",
        "plt.ylabel('f(x)')\n",
        "plt.title('Newton-Raphson Root Search')\n",
        "plt.plot(X,y)\n",
        "plt.show()"
      ],
      "metadata": {
        "colab": {
          "base_uri": "https://localhost:8080/",
          "height": 472
        },
        "id": "vHUGx80a50Lg",
        "outputId": "12db1dcc-5cf5-4aa3-d4e2-c6e9cc3f391f"
      },
      "execution_count": 58,
      "outputs": [
        {
          "output_type": "display_data",
          "data": {
            "text/plain": [
              "<Figure size 640x480 with 1 Axes>"
            ],
            "image/png": "[encoded data removed]"
          },
          "metadata": {}
        }
      ]
    },
    {
      "cell_type": "code",
      "source": [],
      "metadata": {
        "id": "3htrP6Fy5_ji"
      },
      "execution_count": null,
      "outputs": []
    }
  ]
}